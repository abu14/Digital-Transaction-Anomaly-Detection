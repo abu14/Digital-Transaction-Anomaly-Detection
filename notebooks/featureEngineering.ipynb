{
 "cells": [
  {
   "cell_type": "code",
   "execution_count": null,
   "metadata": {
    "vscode": {
     "languageId": "plaintext"
    }
   },
   "outputs": [],
   "source": [
    "### **Feature engineering**"
   ]
  },
  {
   "cell_type": "code",
   "execution_count": null,
   "metadata": {
    "vscode": {
     "languageId": "plaintext"
    }
   },
   "outputs": [],
   "source": [
    "#### **Import Libraries**"
   ]
  },
  {
   "cell_type": "code",
   "execution_count": null,
   "metadata": {
    "vscode": {
     "languageId": "plaintext"
    }
   },
   "outputs": [],
   "source": [
    "import pandas as pd\n",
    "import matplotlib.pyplot as plt\n",
    "import seaborn as sns"
   ]
  },
  {
   "cell_type": "code",
   "execution_count": null,
   "metadata": {
    "vscode": {
     "languageId": "plaintext"
    }
   },
   "outputs": [],
   "source": [
    "# Convert 'signup_time' and 'purchase_time' to datetime format\n",
    "        df['signup_time'] = pd.to_datetime(df['signup_time'])\n",
    "        df['purchase_time'] = pd.to_datetime(df['purchase_time'])\n",
    "\n",
    "        # Extract hour of the day and day of the week from 'purchase_time'\n",
    "        df['hour_of_day'] = df['purchase_time'].dt.hour\n",
    "        df['day_of_week'] = df['purchase_time'].dt.dayofweek\n",
    "\n",
    "        # Sort values by user_id and purchase_time to calculate transaction frequency and velocity\n",
    "        df = df.sort_values(by=['user_id', 'purchase_time'])\n",
    "\n",
    "        # Transaction frequency: Count the number of transactions for each user\n",
    "        df['transaction_count'] = df.groupby('user_id')['user_id'].transform('count')\n",
    "\n",
    "        # Transaction velocity: Time difference between consecutive purchases for each user (in seconds)\n",
    "        df['time_since_last_purchase'] = df.groupby('user_id')['purchase_time'].diff().dt.total_seconds()\n",
    "\n",
    "        # Fill NaN values (first transaction of each user) with 0\n",
    "        df['time_since_last_purchase'] = df['time_since_last_purchase'].fillna(0)"
   ]
  }
 ],
 "metadata": {
  "language_info": {
   "name": "python"
  }
 },
 "nbformat": 4,
 "nbformat_minor": 2
}
